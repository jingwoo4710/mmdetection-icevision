{
 "cells": [
  {
   "cell_type": "code",
   "execution_count": 5,
   "metadata": {},
   "outputs": [
    {
     "name": "stdout",
     "output_type": "stream",
     "text": [
      "subdir =  /data/annotations/training\n",
      "subdir =  /data/annotations/training/2018-03-02_1449_right\n",
      "subdir =  /data/annotations/training/2018-03-07_1322_right\n",
      "subdir =  /data/annotations/training/2018-03-23_1352_right\n",
      "subdir =  /data/annotations/training/2018-03-02_1519_right\n",
      "subdir =  /data/annotations/training/2018-03-16_1316_left\n",
      "subdir =  /data/annotations/training/2018-03-16_1347_left\n",
      "subdir =  /data/annotations/training/2018-03-16_1324_left\n",
      "subdir =  /data/annotations/training/2018-02-16_1515_left\n",
      "subdir =  /data/annotations/training/2018-02-13_1523_left\n",
      "subdir =  /data/annotations/training/2018-03-07_1357_right\n",
      "subdir =  /data/annotations/training/2018-03-07_1354_right\n",
      "subdir =  /data/annotations/training/2018-03-16_1418_left\n",
      "subdir =  /data/annotations/training/2018-03-07_1336_right\n",
      "subdir =  /data/annotations/training/2018-03-02_1239_right\n",
      "subdir =  /data/annotations/training/2018-03-07_1325_left\n",
      "subdir =  /data/annotations/training/2018-03-16_1424_left\n",
      "subdir =  /data/annotations/training/2018-02-13_1418_left\n",
      "Classes Count = [   9   62  122   38   13    7   50   78  396    9   98   11   89  181\n",
      "  187   16   11   43  247  231  282  115 2822  152   10    2 1793  101\n",
      "    7 1173   64    2  138   40   13    7   16   69 1884   92 2120  187\n",
      "   41   14   22  215    2   12  911  534   20  299   86   32  561   58\n",
      "  734   81  460   34    5   11  175  582  289   78   59  111   43   86\n",
      " 1684 4801 4451 1723   51  163  152   60   57   26   55  270  180   74\n",
      "  192 1496   35   38   11  113  879    6   30  789  177  141   54  847\n",
      "  351   10    8   86   79   13  103  108   11   12  310   84  215  420\n",
      "  185   50  441   21    9    1  369   18  454  346  902  104    4    4\n",
      "  129   17   65  115  305  106    8   73  125]\n",
      "Classes =  ['1.1' '1.11.1' '1.11.2' '1.12.1' '1.12.2' '1.13' '1.15' '1.16' '1.17'\n",
      " '1.20.1' '1.20.2' '1.20.3' '1.22' '1.23' '1.25' '1.3.1' '1.31' '1.33'\n",
      " '1.34.1' '1.34.2' '1.34.3' '1.8' '2.1' '2.2' '2.3.1' '2.3.2' '2.4' '2.5'\n",
      " '2.6' '3.1' '3.10' '3.11' '3.13' '3.18.1' '3.18.2' '3.19' '3.2' '3.20'\n",
      " '3.24' '3.25' '3.27' '3.28' '3.3' '3.31' '3.32' '3.4' '3.5' '3.9' '4.1.1'\n",
      " '4.1.2' '4.1.3' '4.1.4' '4.1.5' '4.1.6' '4.2.1' '4.2.2' '4.2.3' '4.3'\n",
      " '4.4.1' '4.4.2' '4.5.1' '4.5.2' '5.14' '5.15.1' '5.15.2' '5.15.3'\n",
      " '5.15.4' '5.15.5' '5.15.6' '5.15.7' '5.16' '5.19.1' '5.19.2' '5.20'\n",
      " '5.21' '5.23.1' '5.24.1' '5.3' '5.31' '5.32' '5.4' '5.5' '5.6' '5.7.1'\n",
      " '5.7.2' '6.10.1' '6.10.2' '6.11' '6.12' '6.13' '6.16' '6.18.3' '6.3.1'\n",
      " '6.4' '6.6' '6.7' '6.8.1' '6.9.1' '6.9.2' '7.19' '7.2' '7.3' '7.5' '7.7'\n",
      " '8' '8.1.1' '8.1.4' '8.11' '8.13' '8.14' '8.17' '8.2.1' '8.2.2' '8.2.3'\n",
      " '8.2.4' '8.2.5' '8.2.6' '8.21.1' '8.22.1' '8.22.2' '8.22.3' '8.23' '8.24'\n",
      " '8.3.1' '8.3.2' '8.3.3' '8.4.1' '8.4.3' '8.5.2' '8.5.4' '8.6.1' '8.6.5'\n",
      " '8.7' '8.8' 'NA']\n"
     ]
    }
   ],
   "source": [
    "import os\n",
    "import numpy as np\n",
    "import csv\n",
    "\n",
    "annotations = \"/data/annotations/training\"\n",
    "class_list = []\n",
    "\n",
    "for subdir, dirs, files in os.walk(annotations):\n",
    "    print(\"subdir = \", subdir)\n",
    "    for file in files:\n",
    "        if file.endswith('.tsv'):\n",
    "            abs_file = os.path.join(subdir, file)\n",
    "            x = open(abs_file)\n",
    "            freader = csv.DictReader(x, delimiter='\\t', dialect='excel-tab')\n",
    "            for row in freader:\n",
    "                #print(\"class = \", row[\"class\"])\n",
    "                class_list.append(row[\"class\"])\n",
    "len(class_list)\n",
    "x = np.asarray(class_list)\n",
    "classes, count = np.unique(x, return_counts=True)\n",
    "classes.shape\n",
    "print(\"Classes Count =\", count)\n",
    "print(\"Classes = \", classes)"
   ]
  },
  {
   "cell_type": "code",
   "execution_count": 6,
   "metadata": {},
   "outputs": [
    {
     "data": {
      "text/plain": [
       "135"
      ]
     },
     "execution_count": 6,
     "metadata": {},
     "output_type": "execute_result"
    }
   ],
   "source": [
    "len(classes)"
   ]
  },
  {
   "cell_type": "code",
   "execution_count": 4,
   "metadata": {},
   "outputs": [
    {
     "data": {
      "text/plain": [
       "'[\\n    {\\n        \"id\": 1,\\n        \"name\": \"1.1\",\\n        \"supercategory\": \"1\"\\n    },\\n    {\\n        \"id\": 2,\\n        \"name\": \"1.11.1\",\\n        \"supercategory\": \"1.11\"\\n    },\\n    {\\n        \"id\": 3,\\n        \"name\": \"1.11.2\",\\n        \"supercategory\": \"1.11\"\\n    },\\n    {\\n        \"id\": 4,\\n        \"name\": \"1.12.1\",\\n        \"supercategory\": \"1.12\"\\n    },\\n    {\\n        \"id\": 5,\\n        \"name\": \"1.12.2\",\\n        \"supercategory\": \"1.12\"\\n    },\\n    {\\n        \"id\": 6,\\n        \"name\": \"1.13\",\\n        \"supercategory\": \"1\"\\n    },\\n    {\\n        \"id\": 7,\\n        \"name\": \"1.15\",\\n        \"supercategory\": \"1\"\\n    },\\n    {\\n        \"id\": 8,\\n        \"name\": \"1.16\",\\n        \"supercategory\": \"1\"\\n    },\\n    {\\n        \"id\": 9,\\n        \"name\": \"1.17\",\\n        \"supercategory\": \"1\"\\n    },\\n    {\\n        \"id\": 10,\\n        \"name\": \"1.20.1\",\\n        \"supercategory\": \"1.20\"\\n    },\\n    {\\n        \"id\": 11,\\n        \"name\": \"1.20.2\",\\n        \"supercategory\": \"1.20\"\\n    },\\n    {\\n        \"id\": 12,\\n        \"name\": \"1.20.3\",\\n        \"supercategory\": \"1.20\"\\n    },\\n    {\\n        \"id\": 13,\\n        \"name\": \"1.22\",\\n        \"supercategory\": \"1\"\\n    },\\n    {\\n        \"id\": 14,\\n        \"name\": \"1.23\",\\n        \"supercategory\": \"1\"\\n    },\\n    {\\n        \"id\": 15,\\n        \"name\": \"1.25\",\\n        \"supercategory\": \"1\"\\n    },\\n    {\\n        \"id\": 16,\\n        \"name\": \"1.3.1\",\\n        \"supercategory\": \"1.3\"\\n    },\\n    {\\n        \"id\": 17,\\n        \"name\": \"1.31\",\\n        \"supercategory\": \"1\"\\n    },\\n    {\\n        \"id\": 18,\\n        \"name\": \"1.33\",\\n        \"supercategory\": \"1\"\\n    },\\n    {\\n        \"id\": 19,\\n        \"name\": \"1.34.1\",\\n        \"supercategory\": \"1.34\"\\n    },\\n    {\\n        \"id\": 20,\\n        \"name\": \"1.34.2\",\\n        \"supercategory\": \"1.34\"\\n    },\\n    {\\n        \"id\": 21,\\n        \"name\": \"1.34.3\",\\n        \"supercategory\": \"1.34\"\\n    },\\n    {\\n        \"id\": 22,\\n        \"name\": \"1.8\",\\n        \"supercategory\": \"1\"\\n    },\\n    {\\n        \"id\": 23,\\n        \"name\": \"2.1\",\\n        \"supercategory\": \"2\"\\n    },\\n    {\\n        \"id\": 24,\\n        \"name\": \"2.2\",\\n        \"supercategory\": \"2\"\\n    },\\n    {\\n        \"id\": 25,\\n        \"name\": \"2.3.1\",\\n        \"supercategory\": \"2.3\"\\n    },\\n    {\\n        \"id\": 26,\\n        \"name\": \"2.3.2\",\\n        \"supercategory\": \"2.3\"\\n    },\\n    {\\n        \"id\": 27,\\n        \"name\": \"2.4\",\\n        \"supercategory\": \"2\"\\n    },\\n    {\\n        \"id\": 28,\\n        \"name\": \"2.5\",\\n        \"supercategory\": \"2\"\\n    },\\n    {\\n        \"id\": 29,\\n        \"name\": \"2.6\",\\n        \"supercategory\": \"2\"\\n    },\\n    {\\n        \"id\": 30,\\n        \"name\": \"3.1\",\\n        \"supercategory\": \"3\"\\n    },\\n    {\\n        \"id\": 31,\\n        \"name\": \"3.10\",\\n        \"supercategory\": \"3\"\\n    },\\n    {\\n        \"id\": 32,\\n        \"name\": \"3.11\",\\n        \"supercategory\": \"3\"\\n    },\\n    {\\n        \"id\": 33,\\n        \"name\": \"3.13\",\\n        \"supercategory\": \"3\"\\n    },\\n    {\\n        \"id\": 34,\\n        \"name\": \"3.18.1\",\\n        \"supercategory\": \"3.18\"\\n    },\\n    {\\n        \"id\": 35,\\n        \"name\": \"3.18.2\",\\n        \"supercategory\": \"3.18\"\\n    },\\n    {\\n        \"id\": 36,\\n        \"name\": \"3.19\",\\n        \"supercategory\": \"3\"\\n    },\\n    {\\n        \"id\": 37,\\n        \"name\": \"3.2\",\\n        \"supercategory\": \"3\"\\n    },\\n    {\\n        \"id\": 38,\\n        \"name\": \"3.20\",\\n        \"supercategory\": \"3\"\\n    },\\n    {\\n        \"id\": 39,\\n        \"name\": \"3.24\",\\n        \"supercategory\": \"3\"\\n    },\\n    {\\n        \"id\": 40,\\n        \"name\": \"3.25\",\\n        \"supercategory\": \"3\"\\n    },\\n    {\\n        \"id\": 41,\\n        \"name\": \"3.27\",\\n        \"supercategory\": \"3\"\\n    },\\n    {\\n        \"id\": 42,\\n        \"name\": \"3.28\",\\n        \"supercategory\": \"3\"\\n    },\\n    {\\n        \"id\": 43,\\n        \"name\": \"3.3\",\\n        \"supercategory\": \"3\"\\n    },\\n    {\\n        \"id\": 44,\\n        \"name\": \"3.31\",\\n        \"supercategory\": \"3\"\\n    },\\n    {\\n        \"id\": 45,\\n        \"name\": \"3.32\",\\n        \"supercategory\": \"3\"\\n    },\\n    {\\n        \"id\": 46,\\n        \"name\": \"3.4\",\\n        \"supercategory\": \"3\"\\n    },\\n    {\\n        \"id\": 47,\\n        \"name\": \"3.5\",\\n        \"supercategory\": \"3\"\\n    },\\n    {\\n        \"id\": 48,\\n        \"name\": \"3.9\",\\n        \"supercategory\": \"3\"\\n    },\\n    {\\n        \"id\": 49,\\n        \"name\": \"4.1.1\",\\n        \"supercategory\": \"4.1\"\\n    },\\n    {\\n        \"id\": 50,\\n        \"name\": \"4.1.2\",\\n        \"supercategory\": \"4.1\"\\n    },\\n    {\\n        \"id\": 51,\\n        \"name\": \"4.1.3\",\\n        \"supercategory\": \"4.1\"\\n    },\\n    {\\n        \"id\": 52,\\n        \"name\": \"4.1.4\",\\n        \"supercategory\": \"4.1\"\\n    },\\n    {\\n        \"id\": 53,\\n        \"name\": \"4.1.5\",\\n        \"supercategory\": \"4.1\"\\n    },\\n    {\\n        \"id\": 54,\\n        \"name\": \"4.1.6\",\\n        \"supercategory\": \"4.1\"\\n    },\\n    {\\n        \"id\": 55,\\n        \"name\": \"4.2.1\",\\n        \"supercategory\": \"4.2\"\\n    },\\n    {\\n        \"id\": 56,\\n        \"name\": \"4.2.2\",\\n        \"supercategory\": \"4.2\"\\n    },\\n    {\\n        \"id\": 57,\\n        \"name\": \"4.2.3\",\\n        \"supercategory\": \"4.2\"\\n    },\\n    {\\n        \"id\": 58,\\n        \"name\": \"4.3\",\\n        \"supercategory\": \"4\"\\n    },\\n    {\\n        \"id\": 59,\\n        \"name\": \"4.4.1\",\\n        \"supercategory\": \"4.4\"\\n    },\\n    {\\n        \"id\": 60,\\n        \"name\": \"4.4.2\",\\n        \"supercategory\": \"4.4\"\\n    },\\n    {\\n        \"id\": 61,\\n        \"name\": \"4.5.1\",\\n        \"supercategory\": \"4.5\"\\n    },\\n    {\\n        \"id\": 62,\\n        \"name\": \"4.5.2\",\\n        \"supercategory\": \"4.5\"\\n    },\\n    {\\n        \"id\": 63,\\n        \"name\": \"5.14\",\\n        \"supercategory\": \"5\"\\n    },\\n    {\\n        \"id\": 64,\\n        \"name\": \"5.15.1\",\\n        \"supercategory\": \"5.15\"\\n    },\\n    {\\n        \"id\": 65,\\n        \"name\": \"5.15.2\",\\n        \"supercategory\": \"5.15\"\\n    },\\n    {\\n        \"id\": 66,\\n        \"name\": \"5.15.3\",\\n        \"supercategory\": \"5.15\"\\n    },\\n    {\\n        \"id\": 67,\\n        \"name\": \"5.15.4\",\\n        \"supercategory\": \"5.15\"\\n    },\\n    {\\n        \"id\": 68,\\n        \"name\": \"5.15.5\",\\n        \"supercategory\": \"5.15\"\\n    },\\n    {\\n        \"id\": 69,\\n        \"name\": \"5.15.6\",\\n        \"supercategory\": \"5.15\"\\n    },\\n    {\\n        \"id\": 70,\\n        \"name\": \"5.15.7\",\\n        \"supercategory\": \"5.15\"\\n    },\\n    {\\n        \"id\": 71,\\n        \"name\": \"5.16\",\\n        \"supercategory\": \"5\"\\n    },\\n    {\\n        \"id\": 72,\\n        \"name\": \"5.19.1\",\\n        \"supercategory\": \"5.19\"\\n    },\\n    {\\n        \"id\": 73,\\n        \"name\": \"5.19.2\",\\n        \"supercategory\": \"5.19\"\\n    },\\n    {\\n        \"id\": 74,\\n        \"name\": \"5.20\",\\n        \"supercategory\": \"5\"\\n    },\\n    {\\n        \"id\": 75,\\n        \"name\": \"5.21\",\\n        \"supercategory\": \"5\"\\n    },\\n    {\\n        \"id\": 76,\\n        \"name\": \"5.23.1\",\\n        \"supercategory\": \"5.23\"\\n    },\\n    {\\n        \"id\": 77,\\n        \"name\": \"5.24.1\",\\n        \"supercategory\": \"5.24\"\\n    },\\n    {\\n        \"id\": 78,\\n        \"name\": \"5.3\",\\n        \"supercategory\": \"5\"\\n    },\\n    {\\n        \"id\": 79,\\n        \"name\": \"5.31\",\\n        \"supercategory\": \"5\"\\n    },\\n    {\\n        \"id\": 80,\\n        \"name\": \"5.32\",\\n        \"supercategory\": \"5\"\\n    },\\n    {\\n        \"id\": 81,\\n        \"name\": \"5.4\",\\n        \"supercategory\": \"5\"\\n    },\\n    {\\n        \"id\": 82,\\n        \"name\": \"5.5\",\\n        \"supercategory\": \"5\"\\n    },\\n    {\\n        \"id\": 83,\\n        \"name\": \"5.6\",\\n        \"supercategory\": \"5\"\\n    },\\n    {\\n        \"id\": 84,\\n        \"name\": \"5.7.1\",\\n        \"supercategory\": \"5.7\"\\n    },\\n    {\\n        \"id\": 85,\\n        \"name\": \"5.7.2\",\\n        \"supercategory\": \"5.7\"\\n    },\\n    {\\n        \"id\": 86,\\n        \"name\": \"6.10.1\",\\n        \"supercategory\": \"6.10\"\\n    },\\n    {\\n        \"id\": 87,\\n        \"name\": \"6.10.2\",\\n        \"supercategory\": \"6.10\"\\n    },\\n    {\\n        \"id\": 88,\\n        \"name\": \"6.11\",\\n        \"supercategory\": \"6\"\\n    },\\n    {\\n        \"id\": 89,\\n        \"name\": \"6.12\",\\n        \"supercategory\": \"6\"\\n    },\\n    {\\n        \"id\": 90,\\n        \"name\": \"6.13\",\\n        \"supercategory\": \"6\"\\n    },\\n    {\\n        \"id\": 91,\\n        \"name\": \"6.16\",\\n        \"supercategory\": \"6\"\\n    },\\n    {\\n        \"id\": 92,\\n        \"name\": \"6.18.3\",\\n        \"supercategory\": \"6.18\"\\n    },\\n    {\\n        \"id\": 93,\\n        \"name\": \"6.3.1\",\\n        \"supercategory\": \"6.3\"\\n    },\\n    {\\n        \"id\": 94,\\n        \"name\": \"6.4\",\\n        \"supercategory\": \"6\"\\n    },\\n    {\\n        \"id\": 95,\\n        \"name\": \"6.6\",\\n        \"supercategory\": \"6\"\\n    },\\n    {\\n        \"id\": 96,\\n        \"name\": \"6.7\",\\n        \"supercategory\": \"6\"\\n    },\\n    {\\n        \"id\": 97,\\n        \"name\": \"6.8.1\",\\n        \"supercategory\": \"6.8\"\\n    },\\n    {\\n        \"id\": 98,\\n        \"name\": \"6.9.1\",\\n        \"supercategory\": \"6.9\"\\n    },\\n    {\\n        \"id\": 99,\\n        \"name\": \"6.9.2\",\\n        \"supercategory\": \"6.9\"\\n    },\\n    {\\n        \"id\": 100,\\n        \"name\": \"7.19\",\\n        \"supercategory\": \"7\"\\n    },\\n    {\\n        \"id\": 101,\\n        \"name\": \"7.2\",\\n        \"supercategory\": \"7\"\\n    },\\n    {\\n        \"id\": 102,\\n        \"name\": \"7.3\",\\n        \"supercategory\": \"7\"\\n    },\\n    {\\n        \"id\": 103,\\n        \"name\": \"7.5\",\\n        \"supercategory\": \"7\"\\n    },\\n    {\\n        \"id\": 104,\\n        \"name\": \"7.7\",\\n        \"supercategory\": \"7\"\\n    },\\n    {\\n        \"id\": 105,\\n        \"name\": \"8\",\\n        \"supercategory\": \"8\"\\n    },\\n    {\\n        \"id\": 106,\\n        \"name\": \"8.1.1\",\\n        \"supercategory\": \"8.1\"\\n    },\\n    {\\n        \"id\": 107,\\n        \"name\": \"8.1.4\",\\n        \"supercategory\": \"8.1\"\\n    },\\n    {\\n        \"id\": 108,\\n        \"name\": \"8.11\",\\n        \"supercategory\": \"8\"\\n    },\\n    {\\n        \"id\": 109,\\n        \"name\": \"8.13\",\\n        \"supercategory\": \"8\"\\n    },\\n    {\\n        \"id\": 110,\\n        \"name\": \"8.14\",\\n        \"supercategory\": \"8\"\\n    },\\n    {\\n        \"id\": 111,\\n        \"name\": \"8.17\",\\n        \"supercategory\": \"8\"\\n    },\\n    {\\n        \"id\": 112,\\n        \"name\": \"8.2.1\",\\n        \"supercategory\": \"8.2\"\\n    },\\n    {\\n        \"id\": 113,\\n        \"name\": \"8.2.2\",\\n        \"supercategory\": \"8.2\"\\n    },\\n    {\\n        \"id\": 114,\\n        \"name\": \"8.2.3\",\\n        \"supercategory\": \"8.2\"\\n    },\\n    {\\n        \"id\": 115,\\n        \"name\": \"8.2.4\",\\n        \"supercategory\": \"8.2\"\\n    },\\n    {\\n        \"id\": 116,\\n        \"name\": \"8.2.5\",\\n        \"supercategory\": \"8.2\"\\n    },\\n    {\\n        \"id\": 117,\\n        \"name\": \"8.2.6\",\\n        \"supercategory\": \"8.2\"\\n    },\\n    {\\n        \"id\": 118,\\n        \"name\": \"8.21.1\",\\n        \"supercategory\": \"8.21\"\\n    },\\n    {\\n        \"id\": 119,\\n        \"name\": \"8.22.1\",\\n        \"supercategory\": \"8.22\"\\n    },\\n    {\\n        \"id\": 120,\\n        \"name\": \"8.22.2\",\\n        \"supercategory\": \"8.22\"\\n    },\\n    {\\n        \"id\": 121,\\n        \"name\": \"8.22.3\",\\n        \"supercategory\": \"8.22\"\\n    },\\n    {\\n        \"id\": 122,\\n        \"name\": \"8.23\",\\n        \"supercategory\": \"8\"\\n    },\\n    {\\n        \"id\": 123,\\n        \"name\": \"8.24\",\\n        \"supercategory\": \"8\"\\n    },\\n    {\\n        \"id\": 124,\\n        \"name\": \"8.3.1\",\\n        \"supercategory\": \"8.3\"\\n    },\\n    {\\n        \"id\": 125,\\n        \"name\": \"8.3.2\",\\n        \"supercategory\": \"8.3\"\\n    },\\n    {\\n        \"id\": 126,\\n        \"name\": \"8.3.3\",\\n        \"supercategory\": \"8.3\"\\n    },\\n    {\\n        \"id\": 127,\\n        \"name\": \"8.4.1\",\\n        \"supercategory\": \"8.4\"\\n    },\\n    {\\n        \"id\": 128,\\n        \"name\": \"8.4.3\",\\n        \"supercategory\": \"8.4\"\\n    },\\n    {\\n        \"id\": 129,\\n        \"name\": \"8.5.2\",\\n        \"supercategory\": \"8.5\"\\n    },\\n    {\\n        \"id\": 130,\\n        \"name\": \"8.5.4\",\\n        \"supercategory\": \"8.5\"\\n    },\\n    {\\n        \"id\": 131,\\n        \"name\": \"8.6.1\",\\n        \"supercategory\": \"8.6\"\\n    },\\n    {\\n        \"id\": 132,\\n        \"name\": \"8.6.5\",\\n        \"supercategory\": \"8.6\"\\n    },\\n    {\\n        \"id\": 133,\\n        \"name\": \"8.7\",\\n        \"supercategory\": \"8\"\\n    },\\n    {\\n        \"id\": 134,\\n        \"name\": \"8.8\",\\n        \"supercategory\": \"8\"\\n    }\\n]'"
      ]
     },
     "execution_count": 4,
     "metadata": {},
     "output_type": "execute_result"
    }
   ],
   "source": [
    "# Create categories.json for above classes\n",
    "import json\n",
    "\n",
    "list_categories = []\n",
    "\n",
    "i = 0\n",
    "for j in range(len(classes)):\n",
    "    j = j + 1\n",
    "    if classes[j-1] == 'NA':\n",
    "        continue\n",
    "    #print(\"j = \", j)\n",
    "    #print(\"classes[j] = \", classes[j-1])\n",
    "    categories = {}\n",
    "    categories['id'] = j\n",
    "    categories['name'] = classes[j-1]\n",
    "    categories['supercategory'] = '.'.join(classes[j-1].split('.')[:-1]) if len(classes[j-1].split('.')) >= 2 else classes[j-1].split('.')[0]\n",
    "    list_categories.append(categories)\n",
    "\n",
    "\n",
    "with open('all_categories.json', 'w') as f:\n",
    "    json.dump(list_categories, f, indent=4)\n",
    "json.dumps(list_categories, indent=4)"
   ]
  },
  {
   "cell_type": "code",
   "execution_count": 106,
   "metadata": {},
   "outputs": [
    {
     "name": "stdout",
     "output_type": "stream",
     "text": [
      "0\n",
      "1\n",
      "2\n"
     ]
    }
   ],
   "source": []
  }
 ],
 "metadata": {
  "kernelspec": {
   "display_name": "Python 3",
   "language": "python",
   "name": "python3"
  },
  "language_info": {
   "codemirror_mode": {
    "name": "ipython",
    "version": 3
   },
   "file_extension": ".py",
   "mimetype": "text/x-python",
   "name": "python",
   "nbconvert_exporter": "python",
   "pygments_lexer": "ipython3",
   "version": "3.7.3"
  }
 },
 "nbformat": 4,
 "nbformat_minor": 2
}
