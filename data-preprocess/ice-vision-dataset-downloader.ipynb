{
 "cells": [
  {
   "cell_type": "code",
   "execution_count": 1,
   "metadata": {},
   "outputs": [
    {
     "name": "stdout",
     "output_type": "stream",
     "text": [
      "path =  train_data/2018-02-13_1418/left_jpgs.tar\n",
      "path =  path =  train_data/2018-03-02_1239/right_jpgs.tar\n",
      "train_data/2018-02-13_1523/left_jpgs.tar\n",
      "path =  path =  train_data/2018-03-07_1325/left_jpgs.tar\n",
      "path =  train_data/2018-03-07_1336/right_jpgs.tar\n",
      "path = train_data/2018-03-07_1322/right_jpgs.tar\n",
      "path =  train_data/2018-03-07_1357/right_jpgs.tar\n",
      " train_data/2018-03-07_1354/right_jpgs.tar\n",
      "path = path =  train_data/2018-03-16_1347/left_jpgs.tar\n",
      " train_data/2018-03-16_1316/left_jpgs.tar\n",
      "path =  train_data/2018-03-16_1418/left_jpgs.tar\n",
      "Done path =  /home/sgj/nvme/ice-vision/mmdetection/train_data/2018-03-16_1418/left_jpgs.tar\n",
      "/home/sgj/nvme/ice-vision/mmdetection/train_data/2018-03-16_1418/left_jpgs.tar\n",
      "Done path =  /home/sgj/nvme/ice-vision/mmdetection/train_data/2018-03-07_1354/right_jpgs.tar\n",
      "/home/sgj/nvme/ice-vision/mmdetection/train_data/2018-03-07_1354/right_jpgs.tar\n",
      "Done path =  /home/sgj/nvme/ice-vision/mmdetection/train_data/2018-03-07_1322/right_jpgs.tar\n",
      "/home/sgj/nvme/ice-vision/mmdetection/train_data/2018-03-07_1322/right_jpgs.tar\n",
      "Done path =  /home/sgj/nvme/ice-vision/mmdetection/train_data/2018-03-07_1325/left_jpgs.tar\n",
      "/home/sgj/nvme/ice-vision/mmdetection/train_data/2018-03-07_1325/left_jpgs.tar\n",
      "Done path =  /home/sgj/nvme/ice-vision/mmdetection/train_data/2018-03-02_1239/right_jpgs.tar\n",
      "/home/sgj/nvme/ice-vision/mmdetection/train_data/2018-03-02_1239/right_jpgs.tar\n",
      "Done path =  /home/sgj/nvme/ice-vision/mmdetection/train_data/2018-03-07_1357/right_jpgs.tar\n",
      "/home/sgj/nvme/ice-vision/mmdetection/train_data/2018-03-07_1357/right_jpgs.tar\n",
      "Done path =  /home/sgj/nvme/ice-vision/mmdetection/train_data/2018-03-16_1316/left_jpgs.tar\n",
      "/home/sgj/nvme/ice-vision/mmdetection/train_data/2018-03-16_1316/left_jpgs.tar\n",
      "Done path =  /home/sgj/nvme/ice-vision/mmdetection/train_data/2018-03-16_1347/left_jpgs.tar\n",
      "/home/sgj/nvme/ice-vision/mmdetection/train_data/2018-03-16_1347/left_jpgs.tar\n",
      "Done path =  /home/sgj/nvme/ice-vision/mmdetection/train_data/2018-03-07_1336/right_jpgs.tar\n",
      "/home/sgj/nvme/ice-vision/mmdetection/train_data/2018-03-07_1336/right_jpgs.tar\n",
      "Done path =  /home/sgj/nvme/ice-vision/mmdetection/train_data/2018-02-13_1418/left_jpgs.tar\n",
      "/home/sgj/nvme/ice-vision/mmdetection/train_data/2018-02-13_1418/left_jpgs.tar\n",
      "Done path =  /home/sgj/nvme/ice-vision/mmdetection/train_data/2018-02-13_1523/left_jpgs.tar\n",
      "/home/sgj/nvme/ice-vision/mmdetection/train_data/2018-02-13_1523/left_jpgs.tar\n"
     ]
    }
   ],
   "source": [
    "#Download Train data - Make sure you have 300GB space\n",
    "\n",
    "import os\n",
    "import requests\n",
    "from time import time as timer\n",
    "\n",
    "from multiprocessing.pool import ThreadPool\n",
    "\n",
    "\n",
    "\n",
    "def fetch_url(entry):\n",
    "    path, uri = entry\n",
    "    print(\"path = \", path )\n",
    "    folder, file = os.path.split(os.path.join(os.getcwd(), path))\n",
    "    if not os.path.exists(folder):\n",
    "        os.makedirs(folder)\n",
    "    path = os.path.join(folder, file)\n",
    "    if not os.path.exists(path):\n",
    "        r = requests.get(uri, stream=True)\n",
    "        if r.status_code == 200:\n",
    "            with open(path, 'wb') as f:\n",
    "                for chunk in r:\n",
    "                    f.write(chunk)\n",
    "    else:\n",
    "        print(\"given path exists, skipping\", path)\n",
    "        \n",
    "    print(\"Done path = \", path)\n",
    "    return path\n",
    "\n",
    "\n",
    "urls = [\n",
    "    (\"train_data/2018-02-13_1418/left_jpgs.tar\", \"http://oscar.skoltech.ru/data/2018-02-13_1418/left_jpgs.tar\"),\n",
    "    (\"train_data/2018-02-13_1523/left_jpgs.tar\", \"http://oscar.skoltech.ru/data/2018-02-13_1523/left_jpgs.tar\"),\n",
    "    (\"train_data/2018-03-02_1239/right_jpgs.tar\", \"http://oscar.skoltech.ru/data/2018-03-02_1239/right_jpgs.tar\"),\n",
    "    (\"train_data/2018-03-07_1322/right_jpgs.tar\", \"http://oscar.skoltech.ru/data/2018-03-07_1322/right_jpgs.tar\"),\n",
    "    (\"train_data/2018-03-07_1325/left_jpgs.tar\", \"http://oscar.skoltech.ru/data/2018-03-07_1325/left_jpgs.tar\"),\n",
    "    (\"train_data/2018-03-07_1336/right_jpgs.tar\", \"http://oscar.skoltech.ru/data/2018-03-07_1336/right_jpgs.tar\"),\n",
    "    (\"train_data/2018-03-07_1354/right_jpgs.tar\", \"http://oscar.skoltech.ru/data/2018-03-07_1354/right_jpgs.tar\"),\n",
    "    (\"train_data/2018-03-07_1357/right_jpgs.tar\", \"http://oscar.skoltech.ru/data/2018-03-07_1357/right_jpgs.tar\"),\n",
    "    (\"train_data/2018-03-16_1316/left_jpgs.tar\", \"http://oscar.skoltech.ru/data/2018-03-16_1316/left_jpgs.tar\"),\n",
    "    (\"train_data/2018-03-16_1347/left_jpgs.tar\", \"http://oscar.skoltech.ru/data/2018-03-16_1347/left_jpgs.tar\"),\n",
    "    (\"train_data/2018-03-16_1418/left_jpgs.tar\", \"http://oscar.skoltech.ru/data/2018-03-16_1418/left_jpgs.tar\")\n",
    "]\n",
    "\n",
    "\n",
    "results = ThreadPool(12).imap_unordered(fetch_url, urls)"
   ]
  },
  {
   "cell_type": "code",
   "execution_count": 2,
   "metadata": {},
   "outputs": [
    {
     "name": "stdout",
     "output_type": "stream",
     "text": [
      "path =  test_data/2018-02-13_1523/left_jpgs.tar\n",
      "path =  test_data/2018-03-16_1324/left_jpgs.tar\n",
      "Done path =  /home/sgj/nvme/ice-vision/mmdetection/test_data/2018-03-16_1324/left_jpgs.tar\n",
      "/home/sgj/nvme/ice-vision/mmdetection/test_data/2018-03-16_1324/left_jpgs.tar\n",
      "Done path =  /home/sgj/nvme/ice-vision/mmdetection/test_data/2018-02-13_1523/left_jpgs.tar\n",
      "/home/sgj/nvme/ice-vision/mmdetection/test_data/2018-02-13_1523/left_jpgs.tar\n"
     ]
    }
   ],
   "source": [
    "## Download test data\n",
    "urls = [\n",
    "    (\"test_data/2018-02-13_1523/left_jpgs.tar\", \"http://oscar.skoltech.ru/data/2018-02-13_1523/left_jpgs.tar\"),\n",
    "    (\"test_data/2018-03-16_1324/left_jpgs.tar\", \"http://oscar.skoltech.ru/data/2018-03-16_1324/left_jpgs.tar\")\n",
    "]\n",
    "\n",
    "results = ThreadPool(4).imap_unordered(fetch_url, urls)\n",
    "for path in results:\n",
    "    print(path)\n"
   ]
  },
  {
   "cell_type": "code",
   "execution_count": 55,
   "metadata": {},
   "outputs": [
    {
     "name": "stdout",
     "output_type": "stream",
     "text": [
      "Test data extracted\n"
     ]
    }
   ],
   "source": [
    "# Extraction of data - Make sure you have around 500GB space. \n",
    "# If you have less space, delete the tarball after extraction in the for loop\n",
    "\n",
    "import tarfile\n",
    "\n",
    "test_dir = os.path.join( os.getcwd(), 'test_data')\n",
    "train_dir = os.path.join( os.getcwd(), 'train_data')\n",
    "# extracting test files\n",
    "for root, dirs, files in os.walk(test_dir):\n",
    "    for name in files:\n",
    "        if name.endswith('.tar'):\n",
    "            # create a dir with left_jpgs / right_jpgs prepended\n",
    "            new_dir = root + '_' + os.path.split(name)[1].split('.')[0]\n",
    "            if not os.path.exists(new_dir):\n",
    "                os.makedirs(new_dir)\n",
    "            x = tarfile.open(os.path.join(root, name))\n",
    "            x.extractall(new_dir)\n",
    "print(\"Test data extracted\")\n"
   ]
  },
  {
   "cell_type": "code",
   "execution_count": 2,
   "metadata": {},
   "outputs": [
    {
     "name": "stdout",
     "output_type": "stream",
     "text": [
      "current root file =  /home/sgj/temp/train_data/train_data/2018-02-13_1523\n",
      "new_dir =  /home/sgj/temp/train_data/train_data/2018-02-13_1523_left_jpgs\n"
     ]
    },
    {
     "ename": "KeyboardInterrupt",
     "evalue": "",
     "output_type": "error",
     "traceback": [
      "\u001b[0;31m---------------------------------------------------------------------------\u001b[0m",
      "\u001b[0;31mKeyboardInterrupt\u001b[0m                         Traceback (most recent call last)",
      "\u001b[0;32m<ipython-input-2-ae77f0e5d067>\u001b[0m in \u001b[0;36m<module>\u001b[0;34m\u001b[0m\n\u001b[1;32m     15\u001b[0m                 \u001b[0mos\u001b[0m\u001b[0;34m.\u001b[0m\u001b[0mmakedirs\u001b[0m\u001b[0;34m(\u001b[0m\u001b[0mnew_dir\u001b[0m\u001b[0;34m)\u001b[0m\u001b[0;34m\u001b[0m\u001b[0;34m\u001b[0m\u001b[0m\n\u001b[1;32m     16\u001b[0m             \u001b[0mx\u001b[0m \u001b[0;34m=\u001b[0m \u001b[0mtarfile\u001b[0m\u001b[0;34m.\u001b[0m\u001b[0mopen\u001b[0m\u001b[0;34m(\u001b[0m\u001b[0mos\u001b[0m\u001b[0;34m.\u001b[0m\u001b[0mpath\u001b[0m\u001b[0;34m.\u001b[0m\u001b[0mjoin\u001b[0m\u001b[0;34m(\u001b[0m\u001b[0mroot\u001b[0m\u001b[0;34m,\u001b[0m \u001b[0mname\u001b[0m\u001b[0;34m)\u001b[0m\u001b[0;34m)\u001b[0m\u001b[0;34m\u001b[0m\u001b[0;34m\u001b[0m\u001b[0m\n\u001b[0;32m---> 17\u001b[0;31m             \u001b[0mx\u001b[0m\u001b[0;34m.\u001b[0m\u001b[0mextractall\u001b[0m\u001b[0;34m(\u001b[0m\u001b[0mnew_dir\u001b[0m\u001b[0;34m)\u001b[0m\u001b[0;34m\u001b[0m\u001b[0;34m\u001b[0m\u001b[0m\n\u001b[0m\u001b[1;32m     18\u001b[0m \u001b[0mprint\u001b[0m\u001b[0;34m(\u001b[0m\u001b[0;34m\"Train data extracted\"\u001b[0m\u001b[0;34m)\u001b[0m\u001b[0;34m\u001b[0m\u001b[0;34m\u001b[0m\u001b[0m\n",
      "\u001b[0;32m~/anaconda3/envs/pytorch/lib/python3.7/tarfile.py\u001b[0m in \u001b[0;36mextractall\u001b[0;34m(self, path, members, numeric_owner)\u001b[0m\n\u001b[1;32m   2000\u001b[0m             \u001b[0;31m# Do not set_attrs directories, as we will do that further down\u001b[0m\u001b[0;34m\u001b[0m\u001b[0;34m\u001b[0m\u001b[0;34m\u001b[0m\u001b[0m\n\u001b[1;32m   2001\u001b[0m             self.extract(tarinfo, path, set_attrs=not tarinfo.isdir(),\n\u001b[0;32m-> 2002\u001b[0;31m                          numeric_owner=numeric_owner)\n\u001b[0m\u001b[1;32m   2003\u001b[0m \u001b[0;34m\u001b[0m\u001b[0m\n\u001b[1;32m   2004\u001b[0m         \u001b[0;31m# Reverse sort directories.\u001b[0m\u001b[0;34m\u001b[0m\u001b[0;34m\u001b[0m\u001b[0;34m\u001b[0m\u001b[0m\n",
      "\u001b[0;32m~/anaconda3/envs/pytorch/lib/python3.7/tarfile.py\u001b[0m in \u001b[0;36mextract\u001b[0;34m(self, member, path, set_attrs, numeric_owner)\u001b[0m\n\u001b[1;32m   2042\u001b[0m             self._extract_member(tarinfo, os.path.join(path, tarinfo.name),\n\u001b[1;32m   2043\u001b[0m                                  \u001b[0mset_attrs\u001b[0m\u001b[0;34m=\u001b[0m\u001b[0mset_attrs\u001b[0m\u001b[0;34m,\u001b[0m\u001b[0;34m\u001b[0m\u001b[0;34m\u001b[0m\u001b[0m\n\u001b[0;32m-> 2044\u001b[0;31m                                  numeric_owner=numeric_owner)\n\u001b[0m\u001b[1;32m   2045\u001b[0m         \u001b[0;32mexcept\u001b[0m \u001b[0mOSError\u001b[0m \u001b[0;32mas\u001b[0m \u001b[0me\u001b[0m\u001b[0;34m:\u001b[0m\u001b[0;34m\u001b[0m\u001b[0;34m\u001b[0m\u001b[0m\n\u001b[1;32m   2046\u001b[0m             \u001b[0;32mif\u001b[0m \u001b[0mself\u001b[0m\u001b[0;34m.\u001b[0m\u001b[0merrorlevel\u001b[0m \u001b[0;34m>\u001b[0m \u001b[0;36m0\u001b[0m\u001b[0;34m:\u001b[0m\u001b[0;34m\u001b[0m\u001b[0;34m\u001b[0m\u001b[0m\n",
      "\u001b[0;32m~/anaconda3/envs/pytorch/lib/python3.7/tarfile.py\u001b[0m in \u001b[0;36m_extract_member\u001b[0;34m(self, tarinfo, targetpath, set_attrs, numeric_owner)\u001b[0m\n\u001b[1;32m   2112\u001b[0m \u001b[0;34m\u001b[0m\u001b[0m\n\u001b[1;32m   2113\u001b[0m         \u001b[0;32mif\u001b[0m \u001b[0mtarinfo\u001b[0m\u001b[0;34m.\u001b[0m\u001b[0misreg\u001b[0m\u001b[0;34m(\u001b[0m\u001b[0;34m)\u001b[0m\u001b[0;34m:\u001b[0m\u001b[0;34m\u001b[0m\u001b[0;34m\u001b[0m\u001b[0m\n\u001b[0;32m-> 2114\u001b[0;31m             \u001b[0mself\u001b[0m\u001b[0;34m.\u001b[0m\u001b[0mmakefile\u001b[0m\u001b[0;34m(\u001b[0m\u001b[0mtarinfo\u001b[0m\u001b[0;34m,\u001b[0m \u001b[0mtargetpath\u001b[0m\u001b[0;34m)\u001b[0m\u001b[0;34m\u001b[0m\u001b[0;34m\u001b[0m\u001b[0m\n\u001b[0m\u001b[1;32m   2115\u001b[0m         \u001b[0;32melif\u001b[0m \u001b[0mtarinfo\u001b[0m\u001b[0;34m.\u001b[0m\u001b[0misdir\u001b[0m\u001b[0;34m(\u001b[0m\u001b[0;34m)\u001b[0m\u001b[0;34m:\u001b[0m\u001b[0;34m\u001b[0m\u001b[0;34m\u001b[0m\u001b[0m\n\u001b[1;32m   2116\u001b[0m             \u001b[0mself\u001b[0m\u001b[0;34m.\u001b[0m\u001b[0mmakedir\u001b[0m\u001b[0;34m(\u001b[0m\u001b[0mtarinfo\u001b[0m\u001b[0;34m,\u001b[0m \u001b[0mtargetpath\u001b[0m\u001b[0;34m)\u001b[0m\u001b[0;34m\u001b[0m\u001b[0;34m\u001b[0m\u001b[0m\n",
      "\u001b[0;32m~/anaconda3/envs/pytorch/lib/python3.7/tarfile.py\u001b[0m in \u001b[0;36mmakefile\u001b[0;34m(self, tarinfo, targetpath)\u001b[0m\n\u001b[1;32m   2161\u001b[0m                 \u001b[0mtarget\u001b[0m\u001b[0;34m.\u001b[0m\u001b[0mtruncate\u001b[0m\u001b[0;34m(\u001b[0m\u001b[0;34m)\u001b[0m\u001b[0;34m\u001b[0m\u001b[0;34m\u001b[0m\u001b[0m\n\u001b[1;32m   2162\u001b[0m             \u001b[0;32melse\u001b[0m\u001b[0;34m:\u001b[0m\u001b[0;34m\u001b[0m\u001b[0;34m\u001b[0m\u001b[0m\n\u001b[0;32m-> 2163\u001b[0;31m                 \u001b[0mcopyfileobj\u001b[0m\u001b[0;34m(\u001b[0m\u001b[0msource\u001b[0m\u001b[0;34m,\u001b[0m \u001b[0mtarget\u001b[0m\u001b[0;34m,\u001b[0m \u001b[0mtarinfo\u001b[0m\u001b[0;34m.\u001b[0m\u001b[0msize\u001b[0m\u001b[0;34m,\u001b[0m \u001b[0mReadError\u001b[0m\u001b[0;34m,\u001b[0m \u001b[0mbufsize\u001b[0m\u001b[0;34m)\u001b[0m\u001b[0;34m\u001b[0m\u001b[0;34m\u001b[0m\u001b[0m\n\u001b[0m\u001b[1;32m   2164\u001b[0m \u001b[0;34m\u001b[0m\u001b[0m\n\u001b[1;32m   2165\u001b[0m     \u001b[0;32mdef\u001b[0m \u001b[0mmakeunknown\u001b[0m\u001b[0;34m(\u001b[0m\u001b[0mself\u001b[0m\u001b[0;34m,\u001b[0m \u001b[0mtarinfo\u001b[0m\u001b[0;34m,\u001b[0m \u001b[0mtargetpath\u001b[0m\u001b[0;34m)\u001b[0m\u001b[0;34m:\u001b[0m\u001b[0;34m\u001b[0m\u001b[0;34m\u001b[0m\u001b[0m\n",
      "\u001b[0;32m~/anaconda3/envs/pytorch/lib/python3.7/tarfile.py\u001b[0m in \u001b[0;36mcopyfileobj\u001b[0;34m(src, dst, length, exception, bufsize)\u001b[0m\n\u001b[1;32m    245\u001b[0m     \u001b[0mblocks\u001b[0m\u001b[0;34m,\u001b[0m \u001b[0mremainder\u001b[0m \u001b[0;34m=\u001b[0m \u001b[0mdivmod\u001b[0m\u001b[0;34m(\u001b[0m\u001b[0mlength\u001b[0m\u001b[0;34m,\u001b[0m \u001b[0mbufsize\u001b[0m\u001b[0;34m)\u001b[0m\u001b[0;34m\u001b[0m\u001b[0;34m\u001b[0m\u001b[0m\n\u001b[1;32m    246\u001b[0m     \u001b[0;32mfor\u001b[0m \u001b[0mb\u001b[0m \u001b[0;32min\u001b[0m \u001b[0mrange\u001b[0m\u001b[0;34m(\u001b[0m\u001b[0mblocks\u001b[0m\u001b[0;34m)\u001b[0m\u001b[0;34m:\u001b[0m\u001b[0;34m\u001b[0m\u001b[0;34m\u001b[0m\u001b[0m\n\u001b[0;32m--> 247\u001b[0;31m         \u001b[0mbuf\u001b[0m \u001b[0;34m=\u001b[0m \u001b[0msrc\u001b[0m\u001b[0;34m.\u001b[0m\u001b[0mread\u001b[0m\u001b[0;34m(\u001b[0m\u001b[0mbufsize\u001b[0m\u001b[0;34m)\u001b[0m\u001b[0;34m\u001b[0m\u001b[0;34m\u001b[0m\u001b[0m\n\u001b[0m\u001b[1;32m    248\u001b[0m         \u001b[0;32mif\u001b[0m \u001b[0mlen\u001b[0m\u001b[0;34m(\u001b[0m\u001b[0mbuf\u001b[0m\u001b[0;34m)\u001b[0m \u001b[0;34m<\u001b[0m \u001b[0mbufsize\u001b[0m\u001b[0;34m:\u001b[0m\u001b[0;34m\u001b[0m\u001b[0;34m\u001b[0m\u001b[0m\n\u001b[1;32m    249\u001b[0m             \u001b[0;32mraise\u001b[0m \u001b[0mexception\u001b[0m\u001b[0;34m(\u001b[0m\u001b[0;34m\"unexpected end of data\"\u001b[0m\u001b[0;34m)\u001b[0m\u001b[0;34m\u001b[0m\u001b[0;34m\u001b[0m\u001b[0m\n",
      "\u001b[0;31mKeyboardInterrupt\u001b[0m: "
     ]
    }
   ],
   "source": [
    "import tarfile\n",
    "import os\n",
    "\n",
    "# extracting train files\n",
    "train_dir = '/home/sgj/temp/train_data/train_data/'\n",
    "\n",
    "for root, dirs, files in os.walk(train_dir):\n",
    "    for name in files:\n",
    "        if name.endswith('.tar'):\n",
    "            print(\"current root file = \", root)\n",
    "            # create a dir with left_jpgs / right_jpgs prepended\n",
    "            new_dir = root + '_' + os.path.split(name)[1].split('.')[0]\n",
    "            print(\"new_dir = \", new_dir)\n",
    "            if not os.path.exists(new_dir):\n",
    "                os.makedirs(new_dir)\n",
    "            x = tarfile.open(os.path.join(root, name))\n",
    "            x.extractall(new_dir)\n",
    "print(\"Train data extracted\")"
   ]
  },
  {
   "cell_type": "code",
   "execution_count": 3,
   "metadata": {},
   "outputs": [
    {
     "name": "stdout",
     "output_type": "stream",
     "text": [
      "dirs =  ['2018-02-13_1523', '2018-03-16_1324']\n",
      "dirs =  []\n",
      "dirs =  []\n"
     ]
    }
   ],
   "source": []
  }
 ],
 "metadata": {
  "kernelspec": {
   "display_name": "Python 3",
   "language": "python",
   "name": "python3"
  },
  "language_info": {
   "codemirror_mode": {
    "name": "ipython",
    "version": 3
   },
   "file_extension": ".py",
   "mimetype": "text/x-python",
   "name": "python",
   "nbconvert_exporter": "python",
   "pygments_lexer": "ipython3",
   "version": "3.7.3"
  }
 },
 "nbformat": 4,
 "nbformat_minor": 2
}
